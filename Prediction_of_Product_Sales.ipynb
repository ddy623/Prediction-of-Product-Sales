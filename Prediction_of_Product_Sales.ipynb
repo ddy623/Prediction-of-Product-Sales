{
  "nbformat": 4,
  "nbformat_minor": 0,
  "metadata": {
    "colab": {
      "provenance": [],
      "authorship_tag": "ABX9TyOf/qA26HMTNhJSmjt1TyZl",
      "include_colab_link": true
    },
    "kernelspec": {
      "name": "python3",
      "display_name": "Python 3"
    },
    "language_info": {
      "name": "python"
    }
  },
  "cells": [
    {
      "cell_type": "markdown",
      "metadata": {
        "id": "view-in-github",
        "colab_type": "text"
      },
      "source": [
        "<a href=\"https://colab.research.google.com/github/ddy623/Prediction-of-Product-Sales/blob/main/Prediction_of_Product_Sales.ipynb\" target=\"_parent\"><img src=\"https://colab.research.google.com/assets/colab-badge.svg\" alt=\"Open In Colab\"/></a>"
      ]
    },
    {
      "cell_type": "markdown",
      "source": [
        "Prediction of Product Sales"
      ],
      "metadata": {
        "id": "_4S1zS7_DoTL"
      }
    },
    {
      "cell_type": "markdown",
      "source": [
        "Deidre Hunt"
      ],
      "metadata": {
        "id": "15GLq2_cDfpW"
      }
    },
    {
      "cell_type": "markdown",
      "source": [
        "Project Overview"
      ],
      "metadata": {
        "id": "ejZZjZCKDboz"
      }
    },
    {
      "cell_type": "markdown",
      "source": [
        "Load and Inspect Data"
      ],
      "metadata": {
        "id": "71wXTrCfEWAw"
      }
    },
    {
      "cell_type": "code",
      "source": [],
      "metadata": {
        "id": "Lc-RRAUzEepb"
      },
      "execution_count": null,
      "outputs": []
    },
    {
      "cell_type": "markdown",
      "source": [
        "Clean Data\n"
      ],
      "metadata": {
        "id": "3QqlmDA7Efkf"
      }
    },
    {
      "cell_type": "code",
      "source": [],
      "metadata": {
        "id": "_4hVFLfXEss3"
      },
      "execution_count": null,
      "outputs": []
    },
    {
      "cell_type": "markdown",
      "source": [
        "Exploratory Data Analysis"
      ],
      "metadata": {
        "id": "oqWcHT1DEq5Z"
      }
    },
    {
      "cell_type": "code",
      "source": [],
      "metadata": {
        "id": "ekTd7a1wE11G"
      },
      "execution_count": null,
      "outputs": []
    },
    {
      "cell_type": "markdown",
      "source": [
        "Explanatory Data Analysis"
      ],
      "metadata": {
        "id": "fPeyuul-E5v2"
      }
    },
    {
      "cell_type": "code",
      "source": [],
      "metadata": {
        "id": "wn5grPGXFBl0"
      },
      "execution_count": null,
      "outputs": []
    }
  ]
}